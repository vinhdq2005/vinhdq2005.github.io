{
 "cells": [
  {
   "cell_type": "code",
   "execution_count": null,
   "metadata": {},
   "outputs": [],
   "source": [
    "year = 1990\n",
    "colour = \"Blue\"\n",
    "if year < 2000 and colour == \"Blue\":\n",
    "    print(\"Invalid.\")\n",
    "else:\n",
    "    print(\"Good!\")"
   ]
  },
  {
   "cell_type": "code",
   "execution_count": 1,
   "metadata": {},
   "outputs": [
    {
     "name": "stdout",
     "output_type": "stream",
     "text": [
      "*****\n",
      "****\n",
      "***\n",
      "**\n",
      "*\n"
     ]
    }
   ],
   "source": [
    "for i in range(5, 0, -1):\n",
    "    print(\"*\"*i)"
   ]
  },
  {
   "cell_type": "code",
   "execution_count": 15,
   "metadata": {},
   "outputs": [
    {
     "name": "stdout",
     "output_type": "stream",
     "text": [
      "  *\n",
      " ***\n",
      "*****\n",
      " ***\n",
      "  *\n"
     ]
    }
   ],
   "source": [
    "def draw_diamond(height):\n",
    "    if height % 2 == 0:\n",
    "        height += 1  # Make sure the height is an odd number\n",
    "\n",
    "    for i in range(1, height, 2):\n",
    "        spaces = (height - i) // 2\n",
    "        print(\" \" * spaces + \"*\" * i)\n",
    "\n",
    "    for i in range(height, 0, -2):\n",
    "        spaces = (height - i) // 2\n",
    "        print(\" \" * spaces + \"*\" * i)\n",
    "\n",
    "height = int(input(\"Enter the height of the diamond: \"))\n",
    "draw_diamond(height)\n"
   ]
  },
  {
   "cell_type": "code",
   "execution_count": 1,
   "metadata": {},
   "outputs": [
    {
     "name": "stdout",
     "output_type": "stream",
     "text": [
      "     *     \n",
      "    * *    \n",
      "   *   *   \n",
      "  *     *  \n",
      " *   *   * \n",
      "*   ***   *\n",
      " *   *   * \n",
      "  *     *  \n",
      "   *   *   \n",
      "    * *    \n",
      "     *     \n"
     ]
    }
   ],
   "source": [
    "n = int(input())\n",
    "a = input().split()\n",
    "b = []\n",
    "for i in range(n): \n",
    "    b.append(int(a[i]))\n",
    "b.sort()\n",
    "board = []\n",
    "len = 2 * b[n - 1] - 1\n",
    "for i in range(len):\n",
    "    temp = []\n",
    "    for j in range(len):\n",
    "        if(abs(i - b[n - 1] + 1) + abs(j - b[n - 1] + 1) >= b[n - 1]): temp.append(' ')\n",
    "        else: temp.append(' ')\n",
    "    board.append(temp)\n",
    "\n",
    "for i in range(n):\n",
    "    for j in range(b[i]):\n",
    "        board[b[n - 1] - j - 1][b[n - 1] - b[i] + j] = '*'\n",
    "        board[b[n - 1] - j - 1][b[n - 1] + b[i] - j - 2] = '*'\n",
    "        board[b[n - 1] + j - 1][b[n - 1] - b[i] + j] = '*'\n",
    "        board[b[n - 1] + j - 1][b[n - 1] + b[i] - j - 2] = '*'\n",
    "        \n",
    "for i in range(len):\n",
    "    temp = \"\"\n",
    "    for j in range(len): \n",
    "        temp += board[i][j]\n",
    "    print(temp)"
   ]
  }
 ],
 "metadata": {
  "kernelspec": {
   "display_name": "Python 3",
   "language": "python",
   "name": "python3"
  },
  "language_info": {
   "codemirror_mode": {
    "name": "ipython",
    "version": 3
   },
   "file_extension": ".py",
   "mimetype": "text/x-python",
   "name": "python",
   "nbconvert_exporter": "python",
   "pygments_lexer": "ipython3",
   "version": "3.11.5"
  }
 },
 "nbformat": 4,
 "nbformat_minor": 2
}
